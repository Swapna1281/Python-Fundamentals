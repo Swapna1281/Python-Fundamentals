{
 "cells": [
  {
   "cell_type": "code",
   "execution_count": 1,
   "metadata": {},
   "outputs": [
    {
     "name": "stdout",
     "output_type": "stream",
     "text": [
      "['Apple', 'orange', 'banana', 'papaya']\n"
     ]
    }
   ],
   "source": [
    "fruits=['Apple','orange','banana','papaya']\n",
    "print(fruits)"
   ]
  },
  {
   "cell_type": "code",
   "execution_count": 2,
   "metadata": {},
   "outputs": [
    {
     "name": "stdout",
     "output_type": "stream",
     "text": [
      "Apple\n",
      "orange\n",
      "banana\n",
      "papaya\n"
     ]
    }
   ],
   "source": [
    "for i in fruits:\n",
    "    print(i)"
   ]
  },
  {
   "cell_type": "code",
   "execution_count": 3,
   "metadata": {},
   "outputs": [
    {
     "name": "stdout",
     "output_type": "stream",
     "text": [
      "Apple is good for health\n",
      "orange is good for health\n",
      "banana is good for health\n",
      "papaya is good for health\n"
     ]
    }
   ],
   "source": [
    "for i in fruits:\n",
    "    print(f\"{i} is good for health\")"
   ]
  },
  {
   "cell_type": "code",
   "execution_count": 4,
   "metadata": {},
   "outputs": [
    {
     "name": "stdout",
     "output_type": "stream",
     "text": [
      "Apple is good for health\n",
      "Orange is good for health\n",
      "Banana is good for health\n",
      "Papaya is good for health\n"
     ]
    }
   ],
   "source": [
    "for i in fruits:\n",
    "    print(f\"{i.title()} is good for health\")"
   ]
  },
  {
   "cell_type": "code",
   "execution_count": 9,
   "metadata": {},
   "outputs": [
    {
     "name": "stdout",
     "output_type": "stream",
     "text": [
      "APPLE is good for health\n",
      "ORANGE is good for health\n",
      "BANANA is good for health\n",
      "PAPAYA is good for health\n"
     ]
    }
   ],
   "source": [
    "for i in fruits:\n",
    "    print(f\"{i.upper()} is good for health\")"
   ]
  },
  {
   "cell_type": "code",
   "execution_count": 10,
   "metadata": {},
   "outputs": [
    {
     "name": "stdout",
     "output_type": "stream",
     "text": [
      "APPLE is good for health \n",
      "\n",
      "ORANGE is good for health \n",
      "\n",
      "BANANA is good for health \n",
      "\n",
      "PAPAYA is good for health \n",
      "\n"
     ]
    }
   ],
   "source": [
    "for i in fruits:\n",
    "    print(f\"{i.upper()} is good for health \\n\")  #\\n is for new line characters"
   ]
  },
  {
   "cell_type": "code",
   "execution_count": null,
   "metadata": {},
   "outputs": [],
   "source": []
  }
 ],
 "metadata": {
  "kernelspec": {
   "display_name": "Python 3",
   "language": "python",
   "name": "python3"
  },
  "language_info": {
   "codemirror_mode": {
    "name": "ipython",
    "version": 3
   },
   "file_extension": ".py",
   "mimetype": "text/x-python",
   "name": "python",
   "nbconvert_exporter": "python",
   "pygments_lexer": "ipython3",
   "version": "3.8.5"
  }
 },
 "nbformat": 4,
 "nbformat_minor": 4
}
